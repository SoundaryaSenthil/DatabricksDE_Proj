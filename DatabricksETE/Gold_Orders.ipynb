{
 "cells": [
  {
   "cell_type": "code",
   "execution_count": 0,
   "metadata": {
    "application/vnd.databricks.v1+cell": {
     "cellMetadata": {
      "byteLimit": 2048000,
      "rowLimit": 10000
     },
     "inputWidgets": {},
     "nuid": "eeb35ac0-a875-4ce6-8f2e-495be85aa760",
     "showTitle": false,
     "tableResultSettingsMap": {},
     "title": ""
    }
   },
   "outputs": [],
   "source": [
    "df = spark.sql('select * from retail_cat.silver_sch.orders_silver')\n",
    "df.display()"
   ]
  },
  {
   "cell_type": "code",
   "execution_count": 0,
   "metadata": {
    "application/vnd.databricks.v1+cell": {
     "cellMetadata": {
      "byteLimit": 2048000,
      "rowLimit": 10000
     },
     "inputWidgets": {},
     "nuid": "cfb6a76f-bf52-486a-9899-99d7dfd1bdb6",
     "showTitle": false,
     "tableResultSettingsMap": {},
     "title": ""
    }
   },
   "outputs": [],
   "source": [
    "df_dimcust = spark.sql('select DimCustomerkey,customer_id as dim_customer_id from retail_cat.gold_Sch.dimcustomers')\n",
    "df_dimprod = spark.sql('select product_id as DimProductkey,product_id as dim_product_id from retail_cat.gold_Sch.dimproducts')"
   ]
  },
  {
   "cell_type": "code",
   "execution_count": 0,
   "metadata": {
    "application/vnd.databricks.v1+cell": {
     "cellMetadata": {},
     "inputWidgets": {},
     "nuid": "63423cfc-3560-426c-adbd-6091ffbbb55c",
     "showTitle": false,
     "tableResultSettingsMap": {},
     "title": ""
    }
   },
   "outputs": [],
   "source": [
    "df_fact =  df.join(\"df_dimcust\",df.customer_id == df_dimcust.dim_customer_id,'left').join(\"df_dimprod\",df.product_id == df_dimprod.dim_product_id,how='left')\n",
    "df_fact_new = df_fact.drop('dim_customer_id','dim_product_id','customer_id','product_id')\n",
    "df_fact_new.display()"
   ]
  },
  {
   "cell_type": "markdown",
   "metadata": {
    "application/vnd.databricks.v1+cell": {
     "cellMetadata": {},
     "inputWidgets": {},
     "nuid": "49219434-5fda-4831-a899-6230c6d98cb8",
     "showTitle": false,
     "tableResultSettingsMap": {},
     "title": ""
    }
   },
   "source": [
    "## UPSERT ON FACT"
   ]
  },
  {
   "cell_type": "code",
   "execution_count": 0,
   "metadata": {
    "application/vnd.databricks.v1+cell": {
     "cellMetadata": {
      "byteLimit": 2048000,
      "rowLimit": 10000
     },
     "inputWidgets": {},
     "nuid": "b19f5cec-318a-4f35-aef0-f4504fcb2cfb",
     "showTitle": false,
     "tableResultSettingsMap": {},
     "title": ""
    }
   },
   "outputs": [],
   "source": [
    "from delta.tables import DeltaTable"
   ]
  },
  {
   "cell_type": "code",
   "execution_count": 0,
   "metadata": {
    "application/vnd.databricks.v1+cell": {
     "cellMetadata": {},
     "inputWidgets": {},
     "nuid": "bd96f2c1-2151-4023-b886-c986ff4c5ab9",
     "showTitle": false,
     "tableResultSettingsMap": {},
     "title": ""
    }
   },
   "outputs": [],
   "source": [
    "if spark.catalog.tableExists(\"retail_cat.gold_sch.factorders\"):\n",
    "\n",
    "    dlt_obj = DeltaTable.forName(spark,\"retail_cat.gold_sch.factorders\")\n",
    "    dlt_obj.alias(\"target\").merge(df_fact_new.alias(\"source\"),\"target.order_id = source.order_id\").whenMatchedUpdateAll().whenNotMatchedInsertAll().execute()\n",
    "\n",
    "else:\n",
    "    \n",
    "    df_fact_new.write.format(\"delta\")\\\n",
    "        .option(\"path\",\"abfss://gold@adlscardatalake.dfs.core.windows.net/factorders\")\\\n",
    "        .saveAsTable(\"retail_cat.gold_sch.factorders\")"
   ]
  }
 ],
 "metadata": {
  "application/vnd.databricks.v1+notebook": {
   "computePreferences": null,
   "dashboards": [],
   "environmentMetadata": {
    "base_environment": "",
    "environment_version": "2"
   },
   "inputWidgetPreferences": null,
   "language": "python",
   "notebookMetadata": {
    "pythonIndentUnit": 4
   },
   "notebookName": "Gold_Orders",
   "widgets": {}
  },
  "language_info": {
   "name": "python"
  }
 },
 "nbformat": 4,
 "nbformat_minor": 0
}
